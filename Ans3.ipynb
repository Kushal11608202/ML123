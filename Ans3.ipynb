{
  "nbformat": 4,
  "nbformat_minor": 0,
  "metadata": {
    "colab": {
      "name": "Ans3.ipynb",
      "provenance": [],
      "collapsed_sections": [],
      "authorship_tag": "ABX9TyPf19LgQH3VDxKGg4ZrALHg",
      "include_colab_link": true
    },
    "kernelspec": {
      "name": "python3",
      "display_name": "Python 3"
    }
  },
  "cells": [
    {
      "cell_type": "markdown",
      "metadata": {
        "id": "view-in-github",
        "colab_type": "text"
      },
      "source": [
        "<a href=\"https://colab.research.google.com/github/Kushal11608202/ML_CA/blob/master/Ans3.ipynb\" target=\"_parent\"><img src=\"https://colab.research.google.com/assets/colab-badge.svg\" alt=\"Open In Colab\"/></a>"
      ]
    },
    {
      "cell_type": "markdown",
      "metadata": {
        "id": "13duKuLIIv4F",
        "colab_type": "text"
      },
      "source": [
        "# **3)Ans:-**\n",
        "\n",
        "## **Importing libraries**"
      ]
    },
    {
      "cell_type": "code",
      "metadata": {
        "id": "v_MZ0ber8pbx",
        "colab_type": "code",
        "colab": {}
      },
      "source": [
        "from IPython.display import Image\n",
        "%matplotlib inline\n",
        "\n",
        "import matplotlib.pyplot as plt\n",
        "import tensorflow as tf\n",
        "import numpy as np"
      ],
      "execution_count": 0,
      "outputs": []
    },
    {
      "cell_type": "markdown",
      "metadata": {
        "id": "3JjYSo73JRmb",
        "colab_type": "text"
      },
      "source": [
        "## **Building a Regression model**"
      ]
    },
    {
      "cell_type": "code",
      "metadata": {
        "id": "7qtZMGwYCVo7",
        "colab_type": "code",
        "colab": {
          "base_uri": "https://localhost:8080/",
          "height": 122
        },
        "outputId": "a6907f38-e6b7-49b6-ee7d-cc58cb248ddd"
      },
      "source": [
        "g = tf.Graph()\n",
        "\n",
        "with g.as_default():\n",
        "\n",
        "    tf.random.set_seed(123)\n",
        "    tf_x = tf.compat.v1.placeholder(shape=(None), dtype=tf.float32,name='tf_x')\n",
        "    tf_y = tf.compat.v1.placeholder(shape=(None), dtype=tf.float32,name='tf_y')\n",
        "  \n",
        "    weight = tf.Variable(tf.compat.v1.random_normal(shape=(1, 1),stddev=0.5),name='weight')\n",
        "    bias = tf.Variable(0.0, name='bias')\n",
        "    \n",
        "    y_hat = tf.add(weight * tf_x, bias,name='y_hat')\n",
        "    print(y_hat)\n",
        "    \n",
        "    cost = tf.reduce_mean(tf.square(tf_y - y_hat),name='cost')\n",
        "    print(cost)\n",
        "    \n",
        "    opt = tf.compat.v1.train.GradientDescentOptimizer(learning_rate=0.01)\n",
        "    train_op = opt.minimize(cost, name='train_op')"
      ],
      "execution_count": 2,
      "outputs": [
        {
          "output_type": "stream",
          "text": [
            "WARNING:tensorflow:From /usr/local/lib/python3.6/dist-packages/tensorflow/python/ops/resource_variable_ops.py:1666: calling BaseResourceVariable.__init__ (from tensorflow.python.ops.resource_variable_ops) with constraint is deprecated and will be removed in a future version.\n",
            "Instructions for updating:\n",
            "If using Keras pass *_constraint arguments to layers.\n",
            "Tensor(\"y_hat:0\", dtype=float32)\n",
            "Tensor(\"cost:0\", shape=(), dtype=float32)\n"
          ],
          "name": "stdout"
        }
      ]
    },
    {
      "cell_type": "markdown",
      "metadata": {
        "id": "c7D7lLqUJcAT",
        "colab_type": "text"
      },
      "source": [
        "## **Creating a random dataset**"
      ]
    },
    {
      "cell_type": "code",
      "metadata": {
        "id": "1IXEp3cZ_dzc",
        "colab_type": "code",
        "colab": {}
      },
      "source": [
        "np.random.seed(0)\n",
        "def make_random_data():\n",
        "    x = np.random.uniform(low=-2, high=4, size=200)\n",
        "    y = []\n",
        "    for t in x:\n",
        "        r = np.random.normal(loc=0,scale=(1 + t/3),size=None)\n",
        "        y.append(r)\n",
        "    return  x, 2*x-1 + np.array(y)\n",
        "x, y = make_random_data()"
      ],
      "execution_count": 0,
      "outputs": []
    },
    {
      "cell_type": "markdown",
      "metadata": {
        "id": "jnMtm12YKoXI",
        "colab_type": "text"
      },
      "source": [
        "## **Saving and Restoring the model**"
      ]
    },
    {
      "cell_type": "code",
      "metadata": {
        "id": "J-xRj9W_RrB5",
        "colab_type": "code",
        "colab": {
          "base_uri": "https://localhost:8080/",
          "height": 221
        },
        "outputId": "fcc38383-7ab0-4483-de07-ee488b38e6f5"
      },
      "source": [
        "x_train, y_train = x[:100], y[:100]\n",
        "x_test, y_test = x[100:], y[100:]\n",
        "\n",
        "with g.as_default():\n",
        "    saver = tf.compat.v1.train.Saver()\n",
        "\n",
        "n_epochs = 400\n",
        "training_costs = []\n",
        "\n",
        "with tf.compat.v1.Session(graph=g) as sess:\n",
        "\n",
        "    sess.run(tf.compat.v1.global_variables_initializer())\n",
        "    \n",
        "    for e in range(n_epochs):\n",
        "        c, _ = sess.run(['cost:0', 'train_op'] , feed_dict={'tf_x:0':x_train,'tf_y:0':y_train})\n",
        "        training_costs.append(c)\n",
        "        if not e%35:\n",
        "            print('Epoch %d: %.2f' % (e, c))\n",
        "            \n",
        "    saver.save(sess,'Trained Model')"
      ],
      "execution_count": 4,
      "outputs": [
        {
          "output_type": "stream",
          "text": [
            "Epoch 0: 12.58\n",
            "Epoch 35: 2.53\n",
            "Epoch 70: 2.09\n",
            "Epoch 105: 1.95\n",
            "Epoch 140: 1.91\n",
            "Epoch 175: 1.89\n",
            "Epoch 210: 1.88\n",
            "Epoch 245: 1.88\n",
            "Epoch 280: 1.88\n",
            "Epoch 315: 1.88\n",
            "Epoch 350: 1.88\n",
            "Epoch 385: 1.88\n"
          ],
          "name": "stdout"
        }
      ]
    },
    {
      "cell_type": "code",
      "metadata": {
        "id": "_fU6AZR_HI8b",
        "colab_type": "code",
        "colab": {
          "base_uri": "https://localhost:8080/",
          "height": 34
        },
        "outputId": "0493e872-173b-4179-810c-9f1216c77ddc"
      },
      "source": [
        "#Restoring the data\n",
        "g2 = tf.Graph()\n",
        "with tf.compat.v1.Session(graph=g2) as sess:\n",
        "  \n",
        "    new_saver = tf.compat.v1.train.import_meta_graph('./trained-model.meta')\n",
        "    new_saver.restore(sess, 'Trained Model')\n",
        "    \n",
        "    y_pred = sess.run('y_hat:0',feed_dict={'tf_x:0' : x_test})"
      ],
      "execution_count": 5,
      "outputs": [
        {
          "output_type": "stream",
          "text": [
            "INFO:tensorflow:Restoring parameters from Trained Model\n"
          ],
          "name": "stdout"
        }
      ]
    },
    {
      "cell_type": "code",
      "metadata": {
        "id": "wM4FmeucK9Fy",
        "colab_type": "code",
        "colab": {
          "base_uri": "https://localhost:8080/",
          "height": 34
        },
        "outputId": "bec75acc-12d9-4924-a285-0c479d2b824b"
      },
      "source": [
        "print('SSE: %.2f' % (np.sum(np.square(y_pred - y_test))))"
      ],
      "execution_count": 6,
      "outputs": [
        {
          "output_type": "stream",
          "text": [
            "SSE: 212.59\n"
          ],
          "name": "stdout"
        }
      ]
    }
  ]
}