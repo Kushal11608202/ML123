{
  "nbformat": 4,
  "nbformat_minor": 0,
  "metadata": {
    "colab": {
      "name": "Ans2.ipynb",
      "provenance": [],
      "authorship_tag": "ABX9TyNLsT4JJHCtA1LpnR1JIUq5",
      "include_colab_link": true
    },
    "kernelspec": {
      "name": "python3",
      "display_name": "Python 3"
    }
  },
  "cells": [
    {
      "cell_type": "markdown",
      "metadata": {
        "id": "view-in-github",
        "colab_type": "text"
      },
      "source": [
        "<a href=\"https://colab.research.google.com/github/Kushal11608202/ML_CA/blob/master/Ans2.ipynb\" target=\"_parent\"><img src=\"https://colab.research.google.com/assets/colab-badge.svg\" alt=\"Open In Colab\"/></a>"
      ]
    },
    {
      "cell_type": "markdown",
      "metadata": {
        "id": "0j5E-e3sFyr-",
        "colab_type": "text"
      },
      "source": [
        "# **2)Ans:-**\n",
        "\n",
        "## **Importing Libraries**"
      ]
    },
    {
      "cell_type": "code",
      "metadata": {
        "id": "XK2tskJd-1C-",
        "colab_type": "code",
        "colab": {}
      },
      "source": [
        "from IPython.display import Image\n",
        "%matplotlib inline\n",
        "\n",
        "import matplotlib.pyplot as plt\n",
        "import tensorflow as tf\n",
        "import numpy as np"
      ],
      "execution_count": 0,
      "outputs": []
    },
    {
      "cell_type": "markdown",
      "metadata": {
        "id": "43bODX_VGG0n",
        "colab_type": "text"
      },
      "source": [
        "## **Declaring the variable**"
      ]
    },
    {
      "cell_type": "code",
      "metadata": {
        "id": "8DQ6APJ-v81Y",
        "colab_type": "code",
        "colab": {
          "base_uri": "https://localhost:8080/",
          "height": 34
        },
        "outputId": "fe7d30c5-3889-4e1c-cc7c-eeb1c7a3fb77"
      },
      "source": [
        "g = tf.Graph()\n",
        "\n",
        "with g.as_default():\n",
        "    var = tf.Variable(np.array([[1, 2, 3],\n",
        "                              [5, 6, 7]]), name='var')\n",
        "    print(var)"
      ],
      "execution_count": 2,
      "outputs": [
        {
          "output_type": "stream",
          "text": [
            "<tf.Variable 'var:0' shape=(2, 3) dtype=int64>\n"
          ],
          "name": "stdout"
        }
      ]
    },
    {
      "cell_type": "markdown",
      "metadata": {
        "id": "TFk6iaMSGgb_",
        "colab_type": "text"
      },
      "source": [
        "## **Initializing the variable**"
      ]
    },
    {
      "cell_type": "code",
      "metadata": {
        "id": "SjZ_MW_j9Qwr",
        "colab_type": "code",
        "colab": {
          "base_uri": "https://localhost:8080/",
          "height": 51
        },
        "outputId": "594c81c8-8f50-45b1-8038-6eb89fab3456"
      },
      "source": [
        "with tf.compat.v1.Session(graph=g) as sess:\n",
        "    sess.run(tf.compat.v1.global_variables_initializer())\n",
        "    print(sess.run(var))"
      ],
      "execution_count": 3,
      "outputs": [
        {
          "output_type": "stream",
          "text": [
            "[[1 2 3]\n",
            " [5 6 7]]\n"
          ],
          "name": "stdout"
        }
      ]
    },
    {
      "cell_type": "markdown",
      "metadata": {
        "id": "Y06BOGEaGy7F",
        "colab_type": "text"
      },
      "source": [
        "## **Initializing the Variable using init_op**"
      ]
    },
    {
      "cell_type": "code",
      "metadata": {
        "id": "gChclVohBkyf",
        "colab_type": "code",
        "colab": {
          "base_uri": "https://localhost:8080/",
          "height": 51
        },
        "outputId": "ac4383b3-c797-454c-f17c-27d4fafb32fe"
      },
      "source": [
        "with g.as_default():\n",
        "    init_op = tf.compat.v1.global_variables_initializer()\n",
        "    \n",
        "with tf.compat.v1.Session(graph=g) as sess:\n",
        "    sess.run(init_op)\n",
        "    print(sess.run(var))"
      ],
      "execution_count": 4,
      "outputs": [
        {
          "output_type": "stream",
          "text": [
            "[[1 2 3]\n",
            " [5 6 7]]\n"
          ],
          "name": "stdout"
        }
      ]
    }
  ]
}